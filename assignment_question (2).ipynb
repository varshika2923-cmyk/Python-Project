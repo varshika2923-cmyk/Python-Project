{
 "cells": [
  {
   "cell_type": "markdown",
   "metadata": {},
   "source": [
    "# Lesson 1.2: Python Basics\n",
    "## Topics Covered:\n",
    "- Syntax and Semantics\n",
    "- Variables and Data Types\n",
    "- Basic Operators (Arithmetic, Comparison, Logical)\n"
   ]
  },
  {
   "cell_type": "markdown",
   "metadata": {},
   "source": [
    "## 1. Syntax and Semantics\n",
    "\n",
    "**Question 1:** Write a Python program to print \"Hello, World!\"."
   ]
  },
  {
   "cell_type": "code",
   "execution_count": 20,
   "metadata": {},
   "outputs": [
    {
     "name": "stdout",
     "output_type": "stream",
     "text": [
      "Hello, World\n"
     ]
    }
   ],
   "source": [
    "print(\"Hello, World\")\n"
   ]
  },
  {
   "cell_type": "markdown",
   "metadata": {},
   "source": [
    "**Question 2:** Write a Python program that takes a user input and prints it."
   ]
  },
  {
   "cell_type": "code",
   "execution_count": 21,
   "metadata": {},
   "outputs": [
    {
     "name": "stdin",
     "output_type": "stream",
     "text": [
      "Enter something:  8\n"
     ]
    },
    {
     "name": "stdout",
     "output_type": "stream",
     "text": [
      "You entered: 8\n"
     ]
    }
   ],
   "source": [
    "user_input = input(\"Enter something: \")\n",
    "print(\"You entered:\", user_input)\n"
   ]
  },
  {
   "cell_type": "markdown",
   "metadata": {},
   "source": [
    "**Question 3:** Write a Python program to check if a number is positive, negative, or zero."
   ]
  },
  {
   "cell_type": "code",
   "execution_count": 22,
   "metadata": {},
   "outputs": [
    {
     "name": "stdin",
     "output_type": "stream",
     "text": [
      "Enter a number:  5\n"
     ]
    },
    {
     "name": "stdout",
     "output_type": "stream",
     "text": [
      "Positive\n"
     ]
    }
   ],
   "source": [
    "num = float(input(\"Enter a number: \"))\n",
    "\n",
    "if num > 0:\n",
    "    print(\"Positive\")\n",
    "elif num < 0:\n",
    "    print(\"Negative\")\n",
    "else:\n",
    "    print(\"Zero\")\n",
    "\n"
   ]
  },
  {
   "cell_type": "markdown",
   "metadata": {},
   "source": [
    "**Question 4:** Write a Python program to find the largest of three numbers."
   ]
  },
  {
   "cell_type": "code",
   "execution_count": 23,
   "metadata": {},
   "outputs": [
    {
     "name": "stdin",
     "output_type": "stream",
     "text": [
      "Enter first number:  8\n",
      "Enter second number:  9\n",
      "Enter third number:  6\n"
     ]
    },
    {
     "name": "stdout",
     "output_type": "stream",
     "text": [
      "Largest number: 9.0\n"
     ]
    }
   ],
   "source": [
    "a = float(input(\"Enter first number: \"))\n",
    "b = float(input(\"Enter second number: \"))\n",
    "c = float(input(\"Enter third number: \"))\n",
    "\n",
    "if a >= b and a >= c:\n",
    "    print(\"Largest number:\", a)\n",
    "elif b >= a and b >= c:\n",
    "    print(\"Largest number:\", b)\n",
    "else:\n",
    "    print(\"Largest number:\", c)\n"
   ]
  },
  {
   "cell_type": "markdown",
   "metadata": {},
   "source": [
    "**Question 5:** Write a Python program to calculate the factorial of a number."
   ]
  },
  {
   "cell_type": "code",
   "execution_count": 24,
   "metadata": {},
   "outputs": [
    {
     "name": "stdin",
     "output_type": "stream",
     "text": [
      "Enter a number:  3\n"
     ]
    },
    {
     "name": "stdout",
     "output_type": "stream",
     "text": [
      "Factorial: 6\n"
     ]
    }
   ],
   "source": [
    "num = int(input(\"Enter a number: \"))\n",
    "factorial = 1\n",
    "for i in range(1, num + 1):\n",
    "    factorial *= i\n",
    "print(\"Factorial:\", factorial)\n",
    "\n"
   ]
  },
  {
   "cell_type": "markdown",
   "metadata": {},
   "source": [
    "## 2. Variables and Data Types\n",
    "\n",
    "**Question 6:** Create variables of different data types: integer, float, string, and boolean. Print their values and types."
   ]
  },
  {
   "cell_type": "code",
   "execution_count": 25,
   "metadata": {},
   "outputs": [
    {
     "name": "stdout",
     "output_type": "stream",
     "text": [
      "25 <class 'int'>\n",
      "7.5 <class 'float'>\n",
      "Python <class 'str'>\n",
      "True <class 'bool'>\n"
     ]
    }
   ],
   "source": [
    "variables = [\n",
    "    (\"integer_var\", 25),\n",
    "    (\"float_var\", 7.5),\n",
    "    (\"string_var\", \"Python\"),\n",
    "    (\"boolean_var\", True)\n",
    "]\n",
    "\n",
    "for name, value in variables:\n",
    "    print(value, type(value))\n"
   ]
  },
  {
   "cell_type": "markdown",
   "metadata": {},
   "source": [
    "**Question 7:** Write a Python program to swap the values of two variables."
   ]
  },
  {
   "cell_type": "code",
   "execution_count": 8,
   "metadata": {},
   "outputs": [
    {
     "name": "stdin",
     "output_type": "stream",
     "text": [
      "Enter value of a:  23\n",
      "Enter value of b:  45\n"
     ]
    },
    {
     "name": "stdout",
     "output_type": "stream",
     "text": [
      "Before swapping: a = 23 b = 45\n",
      "After swapping: a = 45 b = 23\n"
     ]
    }
   ],
   "source": [
    "a = int(input(\"Enter value of a: \"))\n",
    "b = int(input(\"Enter value of b: \"))\n",
    "\n",
    "print(\"Before swapping: a =\", a, \"b =\", b)\n",
    "\n",
    "temp = a\n",
    "a = b\n",
    "b = temp\n",
    "\n",
    "print(\"After swapping: a =\", a, \"b =\", b)"
   ]
  },
  {
   "cell_type": "markdown",
   "metadata": {},
   "source": [
    "**Question 8:** Write a Python program to convert Celsius to Fahrenheit."
   ]
  },
  {
   "cell_type": "code",
   "execution_count": 26,
   "metadata": {},
   "outputs": [
    {
     "name": "stdin",
     "output_type": "stream",
     "text": [
      "Enter temperature in Celsius:  5\n"
     ]
    },
    {
     "name": "stdout",
     "output_type": "stream",
     "text": [
      "Temperature in Fahrenheit: 41.0\n"
     ]
    }
   ],
   "source": [
    "def celsius_to_fahrenheit(c):\n",
    "    return (c * 9/5) + 32\n",
    "\n",
    "c = float(input(\"Enter temperature in Celsius: \"))\n",
    "f = celsius_to_fahrenheit(c)\n",
    "print(\"Temperature in Fahrenheit:\", f)\n"
   ]
  },
  {
   "cell_type": "markdown",
   "metadata": {},
   "source": [
    "**Question 9:** Write a Python program to concatenate two strings."
   ]
  },
  {
   "cell_type": "code",
   "execution_count": 27,
   "metadata": {},
   "outputs": [
    {
     "name": "stdin",
     "output_type": "stream",
     "text": [
      "Enter first string:  7\n",
      "Enter second string:  \n"
     ]
    },
    {
     "name": "stdout",
     "output_type": "stream",
     "text": [
      "Concatenated string: 7\n"
     ]
    }
   ],
   "source": [
    "s1 = input(\"Enter first string: \")\n",
    "s2 = input(\"Enter second string: \")\n",
    "result = s1 + s2\n",
    "print(\"Concatenated string:\", result)\n"
   ]
  },
  {
   "cell_type": "markdown",
   "metadata": {},
   "source": [
    "**Question 10:** Write a Python program to check if a variable is of a specific data type."
   ]
  },
  {
   "cell_type": "code",
   "execution_count": 29,
   "metadata": {},
   "outputs": [
    {
     "name": "stdout",
     "output_type": "stream",
     "text": [
      "x is an integer\n"
     ]
    }
   ],
   "source": [
    "x = 25\n",
    "\n",
    "if isinstance(x, int):\n",
    "    print(\"x is an integer\")\n",
    "else:\n",
    "    print(\"x is not an integer\")\n"
   ]
  },
  {
   "cell_type": "markdown",
   "metadata": {},
   "source": [
    "## 3. Basic Operators (Arithmetic, Comparison, Logical)\n",
    "\n",
    "**Question 11:** Write a Python program to perform arithmetic operations: addition, subtraction, multiplication, and division."
   ]
  },
  {
   "cell_type": "code",
   "execution_count": 30,
   "metadata": {},
   "outputs": [
    {
     "name": "stdin",
     "output_type": "stream",
     "text": [
      "Enter first number:  4\n",
      "Enter second number:  3\n"
     ]
    },
    {
     "name": "stdout",
     "output_type": "stream",
     "text": [
      "Addition: 7.0\n",
      "Subtraction: 1.0\n",
      "Multiplication: 12.0\n",
      "Division: 1.3333333333333333\n"
     ]
    }
   ],
   "source": [
    "a = float(input(\"Enter first number: \"))\n",
    "b = float(input(\"Enter second number: \"))\n",
    "\n",
    "print(\"Addition:\", a + b)\n",
    "print(\"Subtraction:\", a - b)\n",
    "print(\"Multiplication:\", a * b)\n",
    "print(\"Division:\", a / b)\n"
   ]
  },
  {
   "cell_type": "markdown",
   "metadata": {},
   "source": [
    "**Question 12:** Write a Python program to demonstrate comparison operators: equal to, not equal to, greater than, less than."
   ]
  },
  {
   "cell_type": "code",
   "execution_count": 31,
   "metadata": {},
   "outputs": [
    {
     "name": "stdin",
     "output_type": "stream",
     "text": [
      "Enter first number:  5\n",
      "Enter second number:  3\n"
     ]
    },
    {
     "name": "stdout",
     "output_type": "stream",
     "text": [
      "Equal to: False\n",
      "Not equal to: True\n",
      "Greater than: True\n",
      "Less than: False\n"
     ]
    }
   ],
   "source": [
    "a = float(input(\"Enter first number: \"))\n",
    "b = float(input(\"Enter second number: \"))\n",
    "\n",
    "print(\"Equal to:\", a == b)\n",
    "print(\"Not equal to:\", a != b)\n",
    "print(\"Greater than:\", a > b)\n",
    "print(\"Less than:\", a < b)"
   ]
  },
  {
   "cell_type": "markdown",
   "metadata": {},
   "source": [
    "**Question 13:** Write a Python program to demonstrate logical operators: and, or, not."
   ]
  },
  {
   "cell_type": "code",
   "execution_count": 32,
   "metadata": {},
   "outputs": [
    {
     "name": "stdout",
     "output_type": "stream",
     "text": [
      "a and b: False\n",
      "a or b: True\n",
      "not a: False\n",
      "not b: True\n"
     ]
    }
   ],
   "source": [
    "a = True\n",
    "b = False\n",
    "\n",
    "print(\"a and b:\", a and b)\n",
    "print(\"a or b:\", a or b)\n",
    "print(\"not a:\", not a)\n",
    "print(\"not b:\", not b)\n"
   ]
  },
  {
   "cell_type": "markdown",
   "metadata": {},
   "source": [
    "**Question 14:** Write a Python program to calculate the square of a number."
   ]
  },
  {
   "cell_type": "code",
   "execution_count": 15,
   "metadata": {},
   "outputs": [
    {
     "name": "stdin",
     "output_type": "stream",
     "text": [
      "Enter a number:  44\n"
     ]
    },
    {
     "name": "stdout",
     "output_type": "stream",
     "text": [
      "Square of the number: 1936.0\n"
     ]
    }
   ],
   "source": [
    "num = float(input(\"Enter a number: \"))\n",
    "square = num * num\n",
    "print(\"Square of the number:\", square)"
   ]
  },
  {
   "cell_type": "markdown",
   "metadata": {},
   "source": [
    "**Question 15:** Write a Python program to check if a number is even or odd."
   ]
  },
  {
   "cell_type": "markdown",
   "metadata": {},
   "source": [
    "num = float(input(\"Enter a number: \"))\n",
    "square = num ** 2\n",
    "print(\"Square of the number:\", square)\n"
   ]
  },
  {
   "cell_type": "markdown",
   "metadata": {},
   "source": [
    "**Question 16:** Write a Python program to find the sum of the first n natural numbers."
   ]
  },
  {
   "cell_type": "code",
   "execution_count": 35,
   "metadata": {},
   "outputs": [
    {
     "name": "stdin",
     "output_type": "stream",
     "text": [
      "Enter n:  3\n"
     ]
    },
    {
     "name": "stdout",
     "output_type": "stream",
     "text": [
      "Sum of first 3 natural numbers: 6\n"
     ]
    }
   ],
   "source": [
    "n = int(input(\"Enter n: \"))\n",
    "total = 0\n",
    "for i in range(1, n + 1):\n",
    "    total += i\n",
    "print(\"Sum of first\", n, \"natural numbers:\", total)\n"
   ]
  },
  {
   "cell_type": "markdown",
   "metadata": {},
   "source": [
    "**Question 17:** Write a Python program to check if a year is a leap year."
   ]
  },
  {
   "cell_type": "code",
   "execution_count": 36,
   "metadata": {},
   "outputs": [
    {
     "name": "stdin",
     "output_type": "stream",
     "text": [
      "Enter a year:  2\n"
     ]
    },
    {
     "name": "stdout",
     "output_type": "stream",
     "text": [
      "2 is not a leap year\n"
     ]
    }
   ],
   "source": [
    "year = int(input(\"Enter a year: \"))\n",
    "\n",
    "if (year % 4 == 0 and year % 100 != 0) or (year % 400 == 0):\n",
    "    print(year, \"is a leap year\")\n",
    "else:\n",
    "    print(year, \"is not a leap year\")\n"
   ]
  },
  {
   "cell_type": "markdown",
   "metadata": {},
   "source": [
    "**Question 18:** Write a Python program to reverse a string."
   ]
  },
  {
   "cell_type": "code",
   "execution_count": 37,
   "metadata": {},
   "outputs": [
    {
     "name": "stdin",
     "output_type": "stream",
     "text": [
      "Enter a string:  varshika\n"
     ]
    },
    {
     "name": "stdout",
     "output_type": "stream",
     "text": [
      "Reversed string: akihsrav\n"
     ]
    }
   ],
   "source": [
    "s = input(\"Enter a string: \")\n",
    "reversed_s = s[::-1]\n",
    "print(\"Reversed string:\", reversed_s)\n"
   ]
  },
  {
   "cell_type": "markdown",
   "metadata": {},
   "source": [
    "**Question 19:** Write a Python program to check if a string is a palindrome."
   ]
  },
  {
   "cell_type": "code",
   "execution_count": 38,
   "metadata": {},
   "outputs": [
    {
     "name": "stdin",
     "output_type": "stream",
     "text": [
      "Enter a string:  2\n"
     ]
    },
    {
     "name": "stdout",
     "output_type": "stream",
     "text": [
      "Palindrome\n"
     ]
    }
   ],
   "source": [
    "s = input(\"Enter a string: \")\n",
    "if s == s[::-1]:\n",
    "    print(\"Palindrome\")\n",
    "else:\n",
    "    print(\"Not a palindrome\")\n"
   ]
  },
  {
   "cell_type": "markdown",
   "metadata": {},
   "source": [
    "**Question 20:** Write a Python program to sort a list of numbers in ascending order."
   ]
  },
  {
   "cell_type": "code",
   "execution_count": 19,
   "metadata": {},
   "outputs": [
    {
     "name": "stdin",
     "output_type": "stream",
     "text": [
      "Enter numbers separated by space:  55 45 \n"
     ]
    },
    {
     "name": "stdout",
     "output_type": "stream",
     "text": [
      "Sorted list: [45, 55]\n"
     ]
    }
   ],
   "source": [
    "numbers = [int(x) for x in input(\"Enter numbers separated by space: \").split()]\n",
    "sorted_numbers = sorted(numbers)\n",
    "print(\"Sorted list:\", sorted_numbers)"
   ]
  },
  {
   "cell_type": "code",
   "execution_count": null,
   "metadata": {},
   "outputs": [],
   "source": []
  }
 ],
 "metadata": {
  "kernelspec": {
   "display_name": "Python [conda env:base] *",
   "language": "python",
   "name": "conda-base-py"
  },
  "language_info": {
   "codemirror_mode": {
    "name": "ipython",
    "version": 3
   },
   "file_extension": ".py",
   "mimetype": "text/x-python",
   "name": "python",
   "nbconvert_exporter": "python",
   "pygments_lexer": "ipython3",
   "version": "3.13.5"
  }
 },
 "nbformat": 4,
 "nbformat_minor": 4
}
