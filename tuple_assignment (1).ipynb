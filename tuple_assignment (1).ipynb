{
 "cells": [
  {
   "cell_type": "markdown",
   "id": "6cade624",
   "metadata": {},
   "source": [
    "# Module 3: Data Structures Assignments\n",
    "## Lesson 3.2: Tuples\n",
    "### Assignment 1: Creating and Accessing Tuples\n",
    "\n",
    "Create a tuple with the first 10 positive integers. Print the tuple.\n",
    "\n",
    "### Assignment 2: Accessing Tuple Elements\n",
    "\n",
    "Print the first, middle, and last elements of the tuple created in Assignment 1.\n",
    "\n",
    "### Assignment 3: Tuple Slicing\n",
    "\n",
    "Print the first three elements, the last three elements, and the elements from index 2 to 5 of the tuple created in Assignment 1.\n",
    "\n",
    "### Assignment 4: Nested Tuples\n",
    "\n",
    "Create a nested tuple representing a 3x3 matrix and print the matrix. Access and print the element at the second row and third column.\n",
    "\n",
    "### Assignment 5: Tuple Concatenation\n",
    "\n",
    "Concatenate two tuples: (1, 2, 3) and (4, 5, 6). Print the resulting tuple.\n",
    "\n",
    "### Assignment 6: Tuple Methods\n",
    "\n",
    "Create a tuple with duplicate elements and count the occurrences of an element. Find the index of the first occurrence of an element in the tuple.\n",
    "\n",
    "### Assignment 7: Unpacking Tuples\n",
    "\n",
    "Create a tuple with 5 elements and unpack it into 5 variables. Print the variables.\n",
    "\n",
    "### Assignment 8: Tuple Conversion\n",
    "\n",
    "Convert a list of the first 5 positive integers to a tuple. Print the tuple.\n",
    "\n",
    "### Assignment 9: Tuple of Tuples\n",
    "\n",
    "Create a tuple containing 3 tuples, each with 3 elements. Print the tuple of tuples.\n",
    "\n",
    "### Assignment 10: Tuple and List\n",
    "\n",
    "Create a tuple with the first 5 positive integers. Convert it to a list, append the number 6, and convert it back to a tuple. Print the resulting tuple.\n",
    "\n",
    "### Assignment 11: Tuple and String\n",
    "\n",
    "Create a tuple with the characters of a string. Join the tuple elements into a single string. Print the string.\n",
    "\n",
    "### Assignment 12: Tuple and Dictionary\n",
    "\n",
    "Create a dictionary with tuple keys and integer values. Print the dictionary.\n",
    "\n",
    "### Assignment 13: Nested Tuple Iteration\n",
    "\n",
    "Create a nested tuple and iterate over the elements, printing each element.\n",
    "\n",
    "### Assignment 14: Tuple and Set\n",
    "\n",
    "Create a tuple with duplicate elements. Convert it to a set to remove duplicates and print the resulting set.\n",
    "\n",
    "### Assignment 15: Tuple Functions\n",
    "\n",
    "Write functions that take a tuple and return the minimum, maximum, and sum of the elements. Print the results for a sample tuple."
   ]
  },
  {
   "cell_type": "code",
   "execution_count": 1,
   "id": "8762a889",
   "metadata": {},
   "outputs": [
    {
     "name": "stdout",
     "output_type": "stream",
     "text": [
      "Tuple of numbers: (1, 2, 3, 4, 5, 6, 7, 8, 9, 10)\n"
     ]
    }
   ],
   "source": [
    "# creating tuple with first 10 positive numbers\n",
    "numbers = (1,2,3,4,5,6,7,8,9,10)\n",
    "print(\"Tuple of numbers:\", numbers)\n"
   ]
  },
  {
   "cell_type": "code",
   "execution_count": 2,
   "id": "01a48447-52d9-4c35-8afa-12c6c848fb23",
   "metadata": {},
   "outputs": [
    {
     "name": "stdout",
     "output_type": "stream",
     "text": [
      "First: 1\n",
      "Middle: 6\n",
      "Last: 10\n"
     ]
    }
   ],
   "source": [
    "# printing first, middle and last element\n",
    "print(\"First:\", numbers[0])\n",
    "print(\"Middle:\", numbers[len(numbers)//2])\n",
    "print(\"Last:\", numbers[-1])\n"
   ]
  },
  {
   "cell_type": "code",
   "execution_count": 3,
   "id": "dfc3893a-31c4-4d3c-89fd-1bc2eb518738",
   "metadata": {},
   "outputs": [
    {
     "name": "stdout",
     "output_type": "stream",
     "text": [
      "First three: (1, 2, 3)\n",
      "Last three: (8, 9, 10)\n",
      "From index 2 to 5: (3, 4, 5, 6)\n"
     ]
    }
   ],
   "source": [
    "print(\"First three:\", numbers[:3])\n",
    "print(\"Last three:\", numbers[-3:])\n",
    "print(\"From index 2 to 5:\", numbers[2:6])\n"
   ]
  },
  {
   "cell_type": "code",
   "execution_count": 4,
   "id": "b99c6bce-ed29-49fe-936e-caf0c91bf393",
   "metadata": {},
   "outputs": [
    {
     "name": "stdout",
     "output_type": "stream",
     "text": [
      "Matrix:\n",
      "(1, 2, 3)\n",
      "(4, 5, 6)\n",
      "(7, 8, 9)\n",
      "Element at 2nd row, 3rd column: 6\n"
     ]
    }
   ],
   "source": [
    "# 3x3 matrix using nested tuple\n",
    "matrix = ((1,2,3),(4,5,6),(7,8,9))\n",
    "print(\"Matrix:\")\n",
    "for row in matrix:\n",
    "    print(row)\n",
    "print(\"Element at 2nd row, 3rd column:\", matrix[1][2])\n"
   ]
  },
  {
   "cell_type": "code",
   "execution_count": 5,
   "id": "34a69521-45fa-4201-955e-1a5753c9226b",
   "metadata": {},
   "outputs": [
    {
     "name": "stdout",
     "output_type": "stream",
     "text": [
      "After joining: (1, 2, 3, 4, 5, 6)\n"
     ]
    }
   ],
   "source": [
    "a = (1,2,3)\n",
    "b = (4,5,6)\n",
    "c = a + b\n",
    "print(\"After joining:\", c)\n"
   ]
  },
  {
   "cell_type": "code",
   "execution_count": 6,
   "id": "a156d91d-6d0d-44ab-9c5c-fbaabc93a923",
   "metadata": {},
   "outputs": [
    {
     "name": "stdout",
     "output_type": "stream",
     "text": [
      "Count of 2: 3\n",
      "Index of 3: 3\n"
     ]
    }
   ],
   "source": [
    "t = (1,2,2,3,4,2,5)\n",
    "print(\"Count of 2:\", t.count(2))\n",
    "print(\"Index of 3:\", t.index(3))\n"
   ]
  },
  {
   "cell_type": "code",
   "execution_count": 7,
   "id": "248bddfd-d848-48bd-b17a-7521a637e638",
   "metadata": {},
   "outputs": [
    {
     "name": "stdout",
     "output_type": "stream",
     "text": [
      "10 20 30 40 50\n"
     ]
    }
   ],
   "source": [
    "my_tuple = (10, 20, 30, 40, 50)\n",
    "a, b, c, d, e = my_tuple\n",
    "print(a, b, c, d, e)\n"
   ]
  },
  {
   "cell_type": "code",
   "execution_count": 8,
   "id": "aca7ec5a-cdbe-490a-8310-b5155f7331c7",
   "metadata": {},
   "outputs": [
    {
     "name": "stdout",
     "output_type": "stream",
     "text": [
      "Tuple: (1, 2, 3, 4, 5)\n"
     ]
    }
   ],
   "source": [
    "my_list = [1,2,3,4,5]\n",
    "my_tuple = tuple(my_list)\n",
    "print(\"Tuple:\", my_tuple)\n"
   ]
  },
  {
   "cell_type": "code",
   "execution_count": 9,
   "id": "5a9638da-f18f-43af-8fd7-05b797b0c4eb",
   "metadata": {},
   "outputs": [
    {
     "name": "stdout",
     "output_type": "stream",
     "text": [
      "Tuple of tuples: ((1, 2, 3), (4, 5, 6), (7, 8, 9))\n"
     ]
    }
   ],
   "source": [
    "tt = ((1,2,3),(4,5,6),(7,8,9))\n",
    "print(\"Tuple of tuples:\", tt)\n"
   ]
  },
  {
   "cell_type": "code",
   "execution_count": 10,
   "id": "c8bf6011-1acb-44e0-9dc0-2a63ff56c931",
   "metadata": {},
   "outputs": [
    {
     "name": "stdout",
     "output_type": "stream",
     "text": [
      "After adding 6: (1, 2, 3, 4, 5, 6)\n"
     ]
    }
   ],
   "source": [
    "t = (1,2,3,4,5)\n",
    "lst = list(t)\n",
    "lst.append(6)\n",
    "t = tuple(lst)\n",
    "print(\"After adding 6:\", t)\n"
   ]
  },
  {
   "cell_type": "code",
   "execution_count": 11,
   "id": "403bf174-e231-49f7-9e10-570d5e64ffcb",
   "metadata": {},
   "outputs": [
    {
     "name": "stdout",
     "output_type": "stream",
     "text": [
      "Tuple: ('h', 'e', 'l', 'l', 'o')\n",
      "String: hello\n"
     ]
    }
   ],
   "source": [
    "word = \"hello\"\n",
    "tup = tuple(word)\n",
    "print(\"Tuple:\", tup)\n",
    "joined = ''.join(tup)\n",
    "print(\"String:\", joined)\n"
   ]
  },
  {
   "cell_type": "code",
   "execution_count": 12,
   "id": "850021a0-0d4a-4155-ad17-c3b62fd0a791",
   "metadata": {},
   "outputs": [
    {
     "name": "stdout",
     "output_type": "stream",
     "text": [
      "Dictionary with tuple keys: {(1, 2): 10, (3, 4): 20, (5, 6): 30}\n"
     ]
    }
   ],
   "source": [
    "my_dict = { (1,2): 10, (3,4): 20, (5,6): 30 }\n",
    "print(\"Dictionary with tuple keys:\", my_dict)\n"
   ]
  },
  {
   "cell_type": "code",
   "execution_count": 13,
   "id": "5b70fa15-4765-4c8c-ac61-5fcbf27450f1",
   "metadata": {},
   "outputs": [
    {
     "name": "stdout",
     "output_type": "stream",
     "text": [
      "1\n",
      "2\n",
      "3\n",
      "4\n",
      "5\n",
      "6\n"
     ]
    }
   ],
   "source": [
    "nest = ((1,2),(3,4),(5,6))\n",
    "for tup in nest:\n",
    "    for val in tup:\n",
    "        print(val)\n"
   ]
  },
  {
   "cell_type": "code",
   "execution_count": 14,
   "id": "3d1958dc-0b53-4b15-8064-11093673b2bc",
   "metadata": {},
   "outputs": [
    {
     "name": "stdout",
     "output_type": "stream",
     "text": [
      "After removing duplicates: {1, 2, 3, 4}\n"
     ]
    }
   ],
   "source": [
    "dup_tup = (1,2,2,3,3,4,4)\n",
    "no_dup = set(dup_tup)\n",
    "print(\"After removing duplicates:\", no_dup)\n"
   ]
  },
  {
   "cell_type": "code",
   "execution_count": 15,
   "id": "cdc51925-93c6-469a-a746-90af6c9eb5bb",
   "metadata": {},
   "outputs": [
    {
     "name": "stdout",
     "output_type": "stream",
     "text": [
      "Minimum: 2\n",
      "Maximum: 10\n",
      "Sum: 30\n"
     ]
    }
   ],
   "source": [
    "def tuple_details(t):\n",
    "    print(\"Minimum:\", min(t))\n",
    "    print(\"Maximum:\", max(t))\n",
    "    print(\"Sum:\", sum(t))\n",
    "\n",
    "sample = (2,4,6,8,10)\n",
    "tuple_details(sample)\n"
   ]
  },
  {
   "cell_type": "code",
   "execution_count": null,
   "id": "74edf1ec-74d5-4e19-bc2d-dd9a22a36a32",
   "metadata": {},
   "outputs": [],
   "source": []
  }
 ],
 "metadata": {
  "kernelspec": {
   "display_name": "Python 3 (ipykernel)",
   "language": "python",
   "name": "python3"
  },
  "language_info": {
   "codemirror_mode": {
    "name": "ipython",
    "version": 3
   },
   "file_extension": ".py",
   "mimetype": "text/x-python",
   "name": "python",
   "nbconvert_exporter": "python",
   "pygments_lexer": "ipython3",
   "version": "3.13.5"
  }
 },
 "nbformat": 4,
 "nbformat_minor": 5
}
