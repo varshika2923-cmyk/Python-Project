{
 "cells": [
  {
   "cell_type": "markdown",
   "id": "993d958c",
   "metadata": {},
   "source": [
    "# Module 3: Data Structures Assignments\n",
    "## Lesson 3.1: Lists\n",
    "### Assignment 1: Creating and Accessing Lists\n",
    "\n",
    "Create a list of the first 20 positive integers. Print the list.\n",
    "\n",
    "### Assignment 2: Accessing List Elements\n",
    "\n",
    "Print the first, middle, and last elements of the list created in Assignment 1.\n",
    "\n",
    "### Assignment 3: List Slicing\n",
    "\n",
    "Print the first five elements, the last five elements, and the elements from index 5 to 15 of the list created in Assignment 1.\n",
    "\n",
    "### Assignment 4: List Comprehensions\n",
    "\n",
    "Create a new list containing the squares of the first 10 positive integers using a list comprehension. Print the new list.\n",
    "\n",
    "### Assignment 5: Filtering Lists\n",
    "\n",
    "Create a new list containing only the even numbers from the list created in Assignment 1 using a list comprehension. Print the new list.\n",
    "\n",
    "### Assignment 6: List Methods\n",
    "\n",
    "Create a list of random numbers and sort it in ascending and descending order. Remove the duplicates from the list and print the modified list.\n",
    "\n",
    "### Assignment 7: Nested Lists\n",
    "\n",
    "Create a nested list representing a 3x3 matrix and print the matrix. Access and print the element at the second row and third column.\n",
    "\n",
    "### Assignment 8: List of Dictionaries\n",
    "\n",
    "Create a list of dictionaries where each dictionary represents a student with keys 'name' and 'score'. Sort the list of dictionaries by the 'score' in descending order and print the sorted list.\n",
    "\n",
    "### Assignment 9: Matrix Transposition\n",
    "\n",
    "Write a function that takes a 3x3 matrix (nested list) as input and returns its transpose. Print the original and transposed matrices.\n",
    "\n",
    "### Assignment 10: Flattening a Nested List\n",
    "\n",
    "Write a function that takes a nested list and flattens it into a single list. Print the original and flattened lists.\n",
    "\n",
    "### Assignment 11: List Manipulation\n",
    "\n",
    "Create a list of the first 10 positive integers. Remove the elements at indices 2, 4, and 6, and insert the element '99' at index 5. Print the modified list.\n",
    "\n",
    "### Assignment 12: List Zipping\n",
    "\n",
    "Create two lists of the same length. Use the `zip` function to combine these lists into a list of tuples and print the result.\n",
    "\n",
    "### Assignment 13: List Reversal\n",
    "\n",
    "Write a function that takes a list and returns a new list with the elements in reverse order. Print the original and reversed lists.\n",
    "\n",
    "### Assignment 14: List Rotation\n",
    "\n",
    "Write a function that rotates a list by n positions. Print the original and rotated lists.\n",
    "\n",
    "### Assignment 15: List Intersection\n",
    "\n",
    "Write a function that takes two lists and returns a new list containing only the elements that are present in both lists. Print the intersected list."
   ]
  },
  {
   "cell_type": "code",
   "execution_count": 1,
   "id": "a5e42b35",
   "metadata": {},
   "outputs": [
    {
     "name": "stdout",
     "output_type": "stream",
     "text": [
      "List of numbers: [1, 2, 3, 4, 5, 6, 7, 8, 9, 10, 11, 12, 13, 14, 15, 16, 17, 18, 19, 20]\n"
     ]
    }
   ],
   "source": [
    "numbers = list(range(1, 21))\n",
    "print(\"List of numbers:\", numbers)\n"
   ]
  },
  {
   "cell_type": "code",
   "execution_count": 2,
   "id": "a2ecfd84-cb52-4022-a268-333f6b0c32f9",
   "metadata": {},
   "outputs": [
    {
     "name": "stdout",
     "output_type": "stream",
     "text": [
      "First: 1\n",
      "Middle: 11\n",
      "Last: 20\n"
     ]
    }
   ],
   "source": [
    "print(\"First:\", numbers[0])\n",
    "print(\"Middle:\", numbers[len(numbers)//2])\n",
    "print(\"Last:\", numbers[-1])\n"
   ]
  },
  {
   "cell_type": "code",
   "execution_count": 3,
   "id": "985ebff3-235f-48a3-8d14-5954862221ed",
   "metadata": {},
   "outputs": [
    {
     "name": "stdout",
     "output_type": "stream",
     "text": [
      "First five: [1, 2, 3, 4, 5]\n",
      "Last five: [16, 17, 18, 19, 20]\n",
      "From index 5 to 15: [6, 7, 8, 9, 10, 11, 12, 13, 14, 15, 16]\n"
     ]
    }
   ],
   "source": [
    "print(\"First five:\", numbers[:5])\n",
    "print(\"Last five:\", numbers[-5:])\n",
    "print(\"From index 5 to 15:\", numbers[5:16])\n"
   ]
  },
  {
   "cell_type": "code",
   "execution_count": 4,
   "id": "bc82da4a-20b3-49c7-a269-f4e54c92d19f",
   "metadata": {},
   "outputs": [
    {
     "name": "stdout",
     "output_type": "stream",
     "text": [
      "Squares of 1 to 10: [1, 4, 9, 16, 25, 36, 49, 64, 81, 100]\n"
     ]
    }
   ],
   "source": [
    "squares = [x*x for x in range(1, 11)]\n",
    "print(\"Squares of 1 to 10:\", squares)\n"
   ]
  },
  {
   "cell_type": "code",
   "execution_count": 5,
   "id": "84eda981-71bf-4f65-baf9-6f0a211d289e",
   "metadata": {},
   "outputs": [
    {
     "name": "stdout",
     "output_type": "stream",
     "text": [
      "Even numbers: [2, 4, 6, 8, 10, 12, 14, 16, 18, 20]\n"
     ]
    }
   ],
   "source": [
    "even_nums = [x for x in numbers if x % 2 == 0]\n",
    "print(\"Even numbers:\", even_nums)\n"
   ]
  },
  {
   "cell_type": "code",
   "execution_count": 6,
   "id": "a39012f1-b742-4728-b62e-6ecdfd63ade4",
   "metadata": {},
   "outputs": [
    {
     "name": "stdout",
     "output_type": "stream",
     "text": [
      "Sorted ascending: [1, 2, 2, 3, 5, 5, 8, 9]\n",
      "Sorted descending: [9, 8, 5, 5, 3, 2, 2, 1]\n",
      "After removing duplicates: [1, 2, 3, 5, 8, 9]\n"
     ]
    }
   ],
   "source": [
    "nums = [5, 2, 8, 2, 9, 3, 5, 1]\n",
    "nums.sort()\n",
    "print(\"Sorted ascending:\", nums)\n",
    "nums.sort(reverse=True)\n",
    "print(\"Sorted descending:\", nums)\n",
    "nums = list(set(nums))\n",
    "print(\"After removing duplicates:\", nums)\n"
   ]
  },
  {
   "cell_type": "code",
   "execution_count": 7,
   "id": "28842249-2375-425c-8062-583a0b097ede",
   "metadata": {},
   "outputs": [
    {
     "name": "stdout",
     "output_type": "stream",
     "text": [
      "Matrix:\n",
      "[1, 2, 3]\n",
      "[4, 5, 6]\n",
      "[7, 8, 9]\n",
      "Element at 2nd row, 3rd column: 6\n"
     ]
    }
   ],
   "source": [
    "matrix = [\n",
    "    [1,2,3],\n",
    "    [4,5,6],\n",
    "    [7,8,9]\n",
    "]\n",
    "print(\"Matrix:\")\n",
    "for row in matrix:\n",
    "    print(row)\n",
    "\n",
    "print(\"Element at 2nd row, 3rd column:\", matrix[1][2])\n"
   ]
  },
  {
   "cell_type": "code",
   "execution_count": 8,
   "id": "c838b7e3-1cdb-4028-b89e-c79272ae8943",
   "metadata": {},
   "outputs": [
    {
     "name": "stdout",
     "output_type": "stream",
     "text": [
      "Students sorted by score: [{'name': 'Priya', 'score': 92}, {'name': 'Arun', 'score': 85}, {'name': 'Kavin', 'score': 78}]\n"
     ]
    }
   ],
   "source": [
    "students = [\n",
    "    {\"name\": \"Arun\", \"score\": 85},\n",
    "    {\"name\": \"Priya\", \"score\": 92},\n",
    "    {\"name\": \"Kavin\", \"score\": 78}\n",
    "]\n",
    "\n",
    "students.sort(key=lambda s: s['score'], reverse=True)\n",
    "print(\"Students sorted by score:\", students)\n"
   ]
  },
  {
   "cell_type": "code",
   "execution_count": 9,
   "id": "ca1a4589-330d-46c9-afb7-81a1fce79dfc",
   "metadata": {},
   "outputs": [
    {
     "name": "stdout",
     "output_type": "stream",
     "text": [
      "Original: [[1, 2, 3], [4, 5, 6], [7, 8, 9]]\n",
      "Transpose: [[1, 4, 7], [2, 5, 8], [3, 6, 9]]\n"
     ]
    }
   ],
   "source": [
    "def transpose(mat):\n",
    "    trans = [[mat[j][i] for j in range(len(mat))] for i in range(len(mat[0]))]\n",
    "    return trans\n",
    "\n",
    "matrix = [[1,2,3],[4,5,6],[7,8,9]]\n",
    "print(\"Original:\", matrix)\n",
    "print(\"Transpose:\", transpose(matrix))\n"
   ]
  },
  {
   "cell_type": "code",
   "execution_count": 10,
   "id": "22e968bf-ceeb-4a46-8c69-4c2746318a81",
   "metadata": {},
   "outputs": [
    {
     "name": "stdout",
     "output_type": "stream",
     "text": [
      "Original: [[1, 2], [3, 4], [5, 6]]\n",
      "Flattened: [1, 2, 3, 4, 5, 6]\n"
     ]
    }
   ],
   "source": [
    "def flatten_list(nested):\n",
    "    flat = []\n",
    "    for sub in nested:\n",
    "        for item in sub:\n",
    "            flat.append(item)\n",
    "    return flat\n",
    "\n",
    "nested_list = [[1,2],[3,4],[5,6]]\n",
    "print(\"Original:\", nested_list)\n",
    "print(\"Flattened:\", flatten_list(nested_list))\n"
   ]
  },
  {
   "cell_type": "code",
   "execution_count": 11,
   "id": "1acdcec6-8cef-44a3-bf7f-83485a784c9c",
   "metadata": {},
   "outputs": [
    {
     "name": "stdout",
     "output_type": "stream",
     "text": [
      "Modified list: [1, 2, 4, 6, 8, 99, 9, 10]\n"
     ]
    }
   ],
   "source": [
    "lst = list(range(1,11))\n",
    "del lst[6]\n",
    "del lst[4]\n",
    "del lst[2]\n",
    "lst.insert(5, 99)\n",
    "print(\"Modified list:\", lst)\n"
   ]
  },
  {
   "cell_type": "code",
   "execution_count": 12,
   "id": "9c28b75d-cd0d-4ea0-bfdf-20f269a62bb5",
   "metadata": {},
   "outputs": [
    {
     "name": "stdout",
     "output_type": "stream",
     "text": [
      "Zipped list: [(1, 'a'), (2, 'b'), (3, 'c'), (4, 'd')]\n"
     ]
    }
   ],
   "source": [
    "a = [1,2,3,4]\n",
    "b = ['a','b','c','d']\n",
    "zipped = list(zip(a,b))\n",
    "print(\"Zipped list:\", zipped)\n"
   ]
  },
  {
   "cell_type": "code",
   "execution_count": null,
   "id": "dee6b292-c971-48f7-97e0-6792196c3740",
   "metadata": {},
   "outputs": [],
   "source": []
  },
  {
   "cell_type": "code",
   "execution_count": 13,
   "id": "b69f13b3-1214-40b9-a216-6cc4d40a312d",
   "metadata": {},
   "outputs": [
    {
     "name": "stdout",
     "output_type": "stream",
     "text": [
      "Original: [1, 2, 3, 4, 5]\n",
      "Reversed: [5, 4, 3, 2, 1]\n"
     ]
    }
   ],
   "source": [
    "def reverse_list(lst):\n",
    "    return lst[::-1]\n",
    "\n",
    "nums = [1,2,3,4,5]\n",
    "print(\"Original:\", nums)\n",
    "print(\"Reversed:\", reverse_list(nums))\n"
   ]
  },
  {
   "cell_type": "code",
   "execution_count": 14,
   "id": "9771df96-e785-46bc-baf6-578d35d7c47b",
   "metadata": {},
   "outputs": [
    {
     "name": "stdout",
     "output_type": "stream",
     "text": [
      "Original: [1, 2, 3, 4, 5, 6]\n",
      "Rotated by 2: [3, 4, 5, 6, 1, 2]\n"
     ]
    }
   ],
   "source": [
    "def rotate_list(lst, n):\n",
    "    n = n % len(lst)\n",
    "    return lst[n:] + lst[:n]\n",
    "\n",
    "nums = [1,2,3,4,5,6]\n",
    "print(\"Original:\", nums)\n",
    "print(\"Rotated by 2:\", rotate_list(nums, 2))\n"
   ]
  },
  {
   "cell_type": "code",
   "execution_count": 15,
   "id": "ac28aeb1-c70c-4b5e-a6e3-9fb720c2d3c1",
   "metadata": {},
   "outputs": [
    {
     "name": "stdout",
     "output_type": "stream",
     "text": [
      "Intersection: [3, 4, 5]\n"
     ]
    }
   ],
   "source": [
    "def intersection(l1, l2):\n",
    "    return [x for x in l1 if x in l2]\n",
    "\n",
    "a = [1,2,3,4,5]\n",
    "b = [3,4,5,6,7]\n",
    "print(\"Intersection:\", intersection(a,b))\n"
   ]
  },
  {
   "cell_type": "code",
   "execution_count": null,
   "id": "0d7234ee-dea4-4306-84e5-c2d4de04a9b7",
   "metadata": {},
   "outputs": [],
   "source": []
  }
 ],
 "metadata": {
  "kernelspec": {
   "display_name": "Python 3 (ipykernel)",
   "language": "python",
   "name": "python3"
  },
  "language_info": {
   "codemirror_mode": {
    "name": "ipython",
    "version": 3
   },
   "file_extension": ".py",
   "mimetype": "text/x-python",
   "name": "python",
   "nbconvert_exporter": "python",
   "pygments_lexer": "ipython3",
   "version": "3.13.5"
  }
 },
 "nbformat": 4,
 "nbformat_minor": 5
}
